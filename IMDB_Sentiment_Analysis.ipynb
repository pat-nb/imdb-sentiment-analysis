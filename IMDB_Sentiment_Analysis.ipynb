{
  "nbformat": 4,
  "nbformat_minor": 0,
  "metadata": {
    "colab": {
      "provenance": []
    },
    "kernelspec": {
      "name": "python3",
      "display_name": "Python 3"
    },
    "language_info": {
      "name": "python"
    }
  },
  "cells": [
    {
      "cell_type": "markdown",
      "metadata": {
        "id": "dbK97ccLaaKr"
      },
      "source": [
        "#**Sentiment Analysis Pipeline for IMDB Movie Reviews**\n",
        "\n",
        "##Sentiment analysis, also known as opinion mining, is a task in natural language processing that seeks to identify the sentiment that is expressed in a text. In this project, we use a deep learning model to perform sentiment analysis on movie reviews from IMDB. The goal is to classify movie reviews as **positive** or **negative** based on the textual content.\n",
        "\n",
        "by:\n",
        "\n",
        "*   Chotiros Srisiam #101411914\n",
        "*   Pat Boonprasertsri #101410612"
      ]
    },
    {
      "cell_type": "markdown",
      "metadata": {
        "id": "eYjM5DJqcUIs"
      },
      "source": [
        "### Data Exploration\n",
        "#####The IMDB dataset is loaded using Pandas, and an initial exploration of the data is conducted."
      ]
    },
    {
      "cell_type": "code",
      "source": [
        "import pandas as pd\n",
        "\n",
        "# Load IMDB dataset\n",
        "imdb_data = pd.read_csv(\"IMDB Dataset.csv\")\n",
        "\n",
        "# Display data example\n",
        "print(\"The example data from the IMDB dataset:\")\n",
        "print(imdb_data.head())\n",
        "\n",
        "# Display the shape of the data (number of rows and columns)\n",
        "print(\"\\nShape of the IMDB dataset:\")\n",
        "print(imdb_data.shape)\n",
        "\n",
        "# Display basic statistics about the DataFrame\n",
        "print(\"\\nAbout the IMDB dataset:\")\n",
        "print(imdb_data.describe())\n",
        "\n",
        "# Display information about the DataFrame columns\n",
        "print(\"\\nInformation about the IMDb dataset columns:\")\n",
        "print(imdb_data.info())\n",
        "\n",
        "# Check for any missing values in the DataFrame\n",
        "print(\"\\nMissing values:\")\n",
        "print(imdb_data.isnull().sum())\n",
        "\n",
        "# Check for sentiment count\n",
        "print(\"\\nSentiment Count:\")\n",
        "print(imdb_data['sentiment'].value_counts())"
      ],
      "metadata": {
        "colab": {
          "base_uri": "https://localhost:8080/"
        },
        "id": "_D7l5DJvGdQn",
        "outputId": "f04f3bf1-7c74-4eb9-fdb4-c3e468f96d2a"
      },
      "execution_count": 8,
      "outputs": [
        {
          "output_type": "stream",
          "name": "stdout",
          "text": [
            "The example data from the IMDB dataset:\n",
            "                                              review sentiment\n",
            "0  One of the other reviewers has mentioned that ...  positive\n",
            "1  A wonderful little production. <br /><br />The...  positive\n",
            "2  I thought this was a wonderful way to spend ti...  positive\n",
            "3  Basically there's a family where a little boy ...  negative\n",
            "4  Petter Mattei's \"Love in the Time of Money\" is...  positive\n",
            "\n",
            "Shape of the IMDB dataset:\n",
            "(50000, 2)\n",
            "\n",
            "About the IMDB dataset:\n",
            "                                                   review sentiment\n",
            "count                                               50000     50000\n",
            "unique                                              49582         2\n",
            "top     Loved today's show!!! It was a variety and not...  positive\n",
            "freq                                                    5     25000\n",
            "\n",
            "Information about the IMDb dataset columns:\n",
            "<class 'pandas.core.frame.DataFrame'>\n",
            "RangeIndex: 50000 entries, 0 to 49999\n",
            "Data columns (total 2 columns):\n",
            " #   Column     Non-Null Count  Dtype \n",
            "---  ------     --------------  ----- \n",
            " 0   review     50000 non-null  object\n",
            " 1   sentiment  50000 non-null  object\n",
            "dtypes: object(2)\n",
            "memory usage: 781.4+ KB\n",
            "None\n",
            "\n",
            "Missing values:\n",
            "review       0\n",
            "sentiment    0\n",
            "dtype: int64\n",
            "\n",
            "Sentiment Count:\n",
            "positive    25000\n",
            "negative    25000\n",
            "Name: sentiment, dtype: int64\n"
          ]
        }
      ]
    },
    {
      "cell_type": "markdown",
      "source": [
        "*   No missing value\n",
        "*   The dataset is balanced as the number of positive and negative reviews is equal.\n",
        "\n"
      ],
      "metadata": {
        "id": "ZRqRfNLOXqOv"
      }
    },
    {
      "cell_type": "markdown",
      "metadata": {
        "id": "5vr2_VrvORsV"
      },
      "source": [
        "### Data Preprocessing\n",
        "##### The text data was preprocessed by lowercasing, removing special characters, punctuation, non-alphabetic characters, stopwords, and lemmatization using the Natural Language Toolkit (nltk) libraries,"
      ]
    },
    {
      "cell_type": "code",
      "source": [
        "import nltk\n",
        "nltk.download('stopwords')\n",
        "nltk.download('wordnet')\n",
        "nltk.download('punkt')\n",
        "from nltk.tokenize import word_tokenize\n",
        "from nltk.corpus import stopwords\n",
        "from nltk.stem import WordNetLemmatizer\n",
        "\n",
        "# Lowercasing\n",
        "imdb_data['review'] = imdb_data['review'].str.lower()\n",
        "\n",
        "# Remove special character '<br /><br />'\n",
        "imdb_data['review'] = imdb_data['review'].str.replace('<br /><br />', ' ')\n",
        "\n",
        "# Define function for additional preprocessing\n",
        "def preprocess(text):\n",
        "\n",
        "    # Pre-Tokenization\n",
        "    tokens = word_tokenize(text)\n",
        "\n",
        "    # Remove Punctuation and Non-alphabetic characters\n",
        "    tokens = [word for word in tokens if word.isalpha()]\n",
        "\n",
        "    # Remove Stopwords\n",
        "    stop_words = set(stopwords.words('english'))\n",
        "    tokens = [word for word in tokens if word not in stop_words]\n",
        "\n",
        "    # Lemmatization\n",
        "    lemmatizer = WordNetLemmatizer()\n",
        "    tokens = [lemmatizer.lemmatize(word) for word in tokens]\n",
        "\n",
        "    return tokens\n",
        "\n",
        "# Apply additional preprocess function\n",
        "imdb_data['tokens'] = imdb_data['review'].apply(preprocess)\n",
        "\n",
        "# Display the preprocessed data with tokens column\n",
        "print(imdb_data.head())"
      ],
      "metadata": {
        "colab": {
          "base_uri": "https://localhost:8080/"
        },
        "id": "bgSnu3tWgZ_c",
        "outputId": "36ea7010-ebeb-42f7-eac8-ac684e6c3e9c"
      },
      "execution_count": 9,
      "outputs": [
        {
          "output_type": "stream",
          "name": "stderr",
          "text": [
            "[nltk_data] Downloading package stopwords to /root/nltk_data...\n",
            "[nltk_data]   Package stopwords is already up-to-date!\n",
            "[nltk_data] Downloading package wordnet to /root/nltk_data...\n",
            "[nltk_data]   Package wordnet is already up-to-date!\n",
            "[nltk_data] Downloading package punkt to /root/nltk_data...\n",
            "[nltk_data]   Package punkt is already up-to-date!\n"
          ]
        },
        {
          "output_type": "stream",
          "name": "stdout",
          "text": [
            "                                              review sentiment  \\\n",
            "0  one of the other reviewers has mentioned that ...  positive   \n",
            "1  a wonderful little production.  the filming te...  positive   \n",
            "2  i thought this was a wonderful way to spend ti...  positive   \n",
            "3  basically there's a family where a little boy ...  negative   \n",
            "4  petter mattei's \"love in the time of money\" is...  positive   \n",
            "\n",
            "                                              tokens  \n",
            "0  [one, reviewer, mentioned, watching, oz, episo...  \n",
            "1  [wonderful, little, production, filming, techn...  \n",
            "2  [thought, wonderful, way, spend, time, hot, su...  \n",
            "3  [basically, family, little, boy, jake, think, ...  \n",
            "4  [petter, mattei, love, time, money, visually, ...  \n"
          ]
        }
      ]
    },
    {
      "cell_type": "markdown",
      "source": [
        "*   The text data has been preprocessed by lowercasing and removing special characters.\n",
        "*   Additional preprocessing step was definded for those funtions reqiure pre-tokenizing using the Natural Language Toolkit (nltk) libraries.\n",
        "*   The pre-tokens are stored in a new column named 'tokens'."
      ],
      "metadata": {
        "id": "1lyFYfV2gQn1"
      }
    },
    {
      "cell_type": "markdown",
      "source": [
        "### Model Preparation"
      ],
      "metadata": {
        "id": "MWvDXj-ppHDR"
      }
    },
    {
      "cell_type": "code",
      "source": [
        "from keras.preprocessing.text import Tokenizer\n",
        "from keras.preprocessing.sequence import pad_sequences\n",
        "\n",
        "# Tokenization & Padding\n",
        "tokenizer = Tokenizer()\n",
        "tokenizer.fit_on_texts(imdb_data['review'])\n",
        "X = tokenizer.texts_to_sequences(imdb_data['review']) # convert the text data into sequences of integers\n",
        "X = pad_sequences(X, maxlen=100)  # To ensure uniform length, pad shorter sequences with zeros or shorten longer sequences.\n"
      ],
      "metadata": {
        "id": "juh8_HdDkeeP"
      },
      "execution_count": 10,
      "outputs": []
    },
    {
      "cell_type": "markdown",
      "source": [
        "*   Tokenization was performed by Keras (TensorFlow)."
      ],
      "metadata": {
        "id": "PXc5FQZ6oENT"
      }
    },
    {
      "cell_type": "code",
      "source": [
        "from sklearn.preprocessing import LabelEncoder\n",
        "\n",
        "# Encoding labels\n",
        "label_encoder = LabelEncoder()\n",
        "imdb_data['sentiment'] = label_encoder.fit_transform(imdb_data['sentiment'])\n",
        "\n",
        "# Display the preprocessed data with tokens column\n",
        "print(imdb_data.head())\n"
      ],
      "metadata": {
        "colab": {
          "base_uri": "https://localhost:8080/"
        },
        "id": "vxAId7jHgYwN",
        "outputId": "4c57ca06-ed69-4edc-8cc1-7e6f77622aa9"
      },
      "execution_count": 11,
      "outputs": [
        {
          "output_type": "stream",
          "name": "stdout",
          "text": [
            "                                              review  sentiment  \\\n",
            "0  one of the other reviewers has mentioned that ...          1   \n",
            "1  a wonderful little production.  the filming te...          1   \n",
            "2  i thought this was a wonderful way to spend ti...          1   \n",
            "3  basically there's a family where a little boy ...          0   \n",
            "4  petter mattei's \"love in the time of money\" is...          1   \n",
            "\n",
            "                                              tokens  \n",
            "0  [one, reviewer, mentioned, watching, oz, episo...  \n",
            "1  [wonderful, little, production, filming, techn...  \n",
            "2  [thought, wonderful, way, spend, time, hot, su...  \n",
            "3  [basically, family, little, boy, jake, think, ...  \n",
            "4  [petter, mattei, love, time, money, visually, ...  \n"
          ]
        }
      ]
    },
    {
      "cell_type": "markdown",
      "source": [
        "*   Sentiment labels were encoded to binary value LabelEncoder. Now, instead of categorical labels, the column contains numerical labels ('positive'=1 and 'negative'=0)."
      ],
      "metadata": {
        "id": "qJ4xp6tL5DMo"
      }
    },
    {
      "cell_type": "code",
      "source": [
        "import numpy as np\n",
        "from numpy import array\n",
        "\n",
        "# Define Features (X) and Labels (y)\n",
        "X = np.array(X)\n",
        "y = np.array(imdb_data['sentiment'])"
      ],
      "metadata": {
        "id": "I792Fj8CqI0M"
      },
      "execution_count": 12,
      "outputs": []
    },
    {
      "cell_type": "markdown",
      "source": [
        "*   X is defined as a NumPy array that contains the features which are already been prepared in the variable X through tokenization and padding steps.\n",
        "*   y is defined as a NumPy array containing labels which were taken directly from the 'sentiment' column.\n",
        "*   The np.array() function converts both X and Y to NumPy arrays."
      ],
      "metadata": {
        "id": "Ch4wKohNt3vR"
      }
    },
    {
      "cell_type": "code",
      "source": [
        "from sklearn.model_selection import train_test_split\n",
        "\n",
        "# Splitting the dataset into training and testing sets\n",
        "X_train, X_test, y_train, y_test = train_test_split(X, y, test_size=0.2, random_state=42)"
      ],
      "metadata": {
        "id": "dBryDAf5vayD"
      },
      "execution_count": 13,
      "outputs": []
    },
    {
      "cell_type": "markdown",
      "source": [
        "*   train_test_split() function is used to split the dataset into training and testing sets.\n",
        "*   test_size=0.2 specifies that 20% of the data will be used for testing, and the rest 80% will be used for training.\n",
        "*   random_state=42 is used to ensure reproducibility of the split. Setting a random state ensures that the data is split in the same way each time the code is run.\n",
        "\n"
      ],
      "metadata": {
        "id": "6HHur2AOvfOu"
      }
    },
    {
      "cell_type": "markdown",
      "source": [
        "### Model Architecture"
      ],
      "metadata": {
        "id": "tkFnXetpwCmq"
      }
    },
    {
      "cell_type": "code",
      "source": [
        "from keras.models import Sequential\n",
        "from keras.layers import Embedding, LSTM, Dense\n",
        "\n",
        "# Model building\n",
        "model = Sequential() # Define model\n",
        "model.add(Embedding(input_dim=len(tokenizer.word_index)+1, output_dim=128, input_length=100)) # Embedding layer\n",
        "model.add(LSTM(units=128, dropout=0.2, recurrent_dropout=0.2)) # LSTM layer\n",
        "model.add(Dense(1, activation='sigmoid')) # Output layer\n"
      ],
      "metadata": {
        "id": "6_NZtskctSo1"
      },
      "execution_count": 14,
      "outputs": []
    },
    {
      "cell_type": "markdown",
      "source": [
        "*   The model is built using Keras and consists of:\n",
        " * Embedding layer\n",
        " * LSTM layer for sequence modeling\n",
        " * Dense layer with sigmoid activation for binary classification (positive/negative sentiment)"
      ],
      "metadata": {
        "id": "mhuCkhS80dlu"
      }
    },
    {
      "cell_type": "code",
      "source": [
        "# Compile the model\n",
        "model.compile(loss='binary_crossentropy', optimizer='adam', metrics=['accuracy'])"
      ],
      "metadata": {
        "id": "KFVpWNuPzg18"
      },
      "execution_count": 15,
      "outputs": []
    },
    {
      "cell_type": "markdown",
      "source": [
        "* The model is compiled using the Adam optimizer and binary crossentropy loss function."
      ],
      "metadata": {
        "id": "Gde-Qq3n3dW0"
      }
    },
    {
      "cell_type": "code",
      "source": [
        "# Display model summary\n",
        "print(\"Model summary:\")\n",
        "print(model.summary())"
      ],
      "metadata": {
        "colab": {
          "base_uri": "https://localhost:8080/"
        },
        "id": "xpsexEjzGDwM",
        "outputId": "22f4971f-2fad-4e8f-f78c-5695ee109ce4"
      },
      "execution_count": 16,
      "outputs": [
        {
          "output_type": "stream",
          "name": "stdout",
          "text": [
            "Model summary:\n",
            "Model: \"sequential\"\n",
            "_________________________________________________________________\n",
            " Layer (type)                Output Shape              Param #   \n",
            "=================================================================\n",
            " embedding (Embedding)       (None, 100, 128)          15904384  \n",
            "                                                                 \n",
            " lstm (LSTM)                 (None, 128)               131584    \n",
            "                                                                 \n",
            " dense (Dense)               (None, 1)                 129       \n",
            "                                                                 \n",
            "=================================================================\n",
            "Total params: 16036097 (61.17 MB)\n",
            "Trainable params: 16036097 (61.17 MB)\n",
            "Non-trainable params: 0 (0.00 Byte)\n",
            "_________________________________________________________________\n",
            "None\n"
          ]
        }
      ]
    },
    {
      "cell_type": "markdown",
      "source": [
        "* Embedding Layer:\n",
        " * The embedding layer has 15,904,384 parameters.\n",
        " * It transforms input sequences of integers into dense vectors of size 128.\n",
        " * The output shape is (None, 100, 128), indicating that it processes sequences of length 100 and outputs vectors of size 128 for each word in the sequence.\n",
        "* LSTM Layer (LSTM_1):\n",
        " * The LSTM layer has 131,584 parameters.\n",
        " * It processes sequences of vectors and returns the last hidden state output.\n",
        " * The output shape is (None, 128), indicating that it processes sequences of vectors of size 128 and outputs a single vector of size 128.\n",
        "* Dense Layer (Dense_1):\n",
        " * The dense layer has 129 parameters.\n",
        " * It performs binary classification by outputting a single value (0 or 1) representing the sentiment prediction.\n",
        " * The output shape is (None, 1), indicating that it produces a single value for each input sequence.\n",
        "* Total Parameters:\n",
        " * The total number of parameters in the model is 16,036,097 (61.17 MB).\n",
        " * All parameters are trainable, as indicated by the number of trainable parameters being equal to the total number of parameters.\n",
        "* The memory usage of the model is 61.17 MB.\n",
        "\n",
        "**The model summary indicates that:**\n",
        "\n",
        "* The model appears to have a large number of parameters, especially in the embedding layer, which might indicate potential overfitting if the dataset is small.\n",
        "* The output shape of the embedding layer and LSTM layer seems appropriate for processing sequences of text data.\n",
        "* The total memory usage of the model is relatively high, so it may require significant computational resources during training and inference."
      ],
      "metadata": {
        "id": "TqYImX-TLSWr"
      }
    },
    {
      "cell_type": "markdown",
      "source": [
        "### Model Training"
      ],
      "metadata": {
        "id": "OmiQeUJA3MPa"
      }
    },
    {
      "cell_type": "code",
      "source": [
        "from keras.callbacks import EarlyStopping, ReduceLROnPlateau\n",
        "\n",
        "# Define callback functions\n",
        "early_stopping = EarlyStopping(monitor='val_accuracy', mode = 'max', patience=3)\n",
        "reduce_lr = ReduceLROnPlateau(monitor='val_accuracy', mode = 'max', factor=0.2, patience=3, min_lr=1e-7)\n",
        "\n",
        "# Define training parameters\n",
        "batch_size = 128\n",
        "epochs = 5\n",
        "\n",
        "# Train the model\n",
        "history = model.fit(X_train, y_train,\n",
        "                    epochs=epochs,\n",
        "                    batch_size=batch_size,\n",
        "                    validation_split=0.2,\n",
        "                    callbacks=[early_stopping, reduce_lr])"
      ],
      "metadata": {
        "colab": {
          "base_uri": "https://localhost:8080/"
        },
        "outputId": "3705d7dc-e6af-438d-96ad-2324ecb73475",
        "id": "6M4EsHxKW6BO"
      },
      "execution_count": 17,
      "outputs": [
        {
          "output_type": "stream",
          "name": "stdout",
          "text": [
            "Epoch 1/5\n",
            "250/250 [==============================] - 296s 1s/step - loss: 0.4032 - accuracy: 0.8112 - val_loss: 0.3135 - val_accuracy: 0.8633 - lr: 0.0010\n",
            "Epoch 2/5\n",
            "250/250 [==============================] - 292s 1s/step - loss: 0.2078 - accuracy: 0.9215 - val_loss: 0.3876 - val_accuracy: 0.8520 - lr: 0.0010\n",
            "Epoch 3/5\n",
            "250/250 [==============================] - 265s 1s/step - loss: 0.1077 - accuracy: 0.9620 - val_loss: 0.4233 - val_accuracy: 0.8554 - lr: 0.0010\n",
            "Epoch 4/5\n",
            "250/250 [==============================] - 263s 1s/step - loss: 0.0627 - accuracy: 0.9785 - val_loss: 0.5644 - val_accuracy: 0.8438 - lr: 0.0010\n"
          ]
        }
      ]
    },
    {
      "cell_type": "markdown",
      "source": [
        "* The callback functions were added for reduce the usuage of resource from training the model and avoid overfitting.\n",
        " * The EarlyStopping callback is initialized to monitor the validation accuracy and to stop training when the validation accuracy stops improving. The patience parameter specifies the number of epochs to wait before stopping training if no improvement is observed.\n",
        " * The ReduceLROnPlateau callback is initialized to monitor the validation accuracy and to reduce the learning rate when the validation accuracy stops improving. The factor parameter specifies the factor by which the learning rate will be reduced, and patience specifies the number of epochs to wait before reducing the learning rate. The min_lr parameter specifies the lower bound for the learning rate.\n",
        "* Training parameters:\n",
        " * The batch size for training is set to 128. It specifies the number of samples per gradient update.\n",
        " * The number of training epochs is set to 5. It specifies the number of training epochs (iterations over the entire training dataset).\n",
        "* Training model:\n",
        " * The fit() method is used to train the model.\n",
        " * X_train and y_train represent the training features and labels, respectively.\n",
        " * validation_split=0.2 indicates that 20% of the training data will be used as validation data.\n",
        " * callbacks=[early_stopping, reduce_lr] specifies the list of callbacks to be used during training. In this case, both EarlyStopping and ReduceLROnPlateau callbacks are applied."
      ],
      "metadata": {
        "id": "qLnF_0F4IWoI"
      }
    },
    {
      "cell_type": "code",
      "source": [
        "import matplotlib.pyplot as plt\n",
        "\n",
        "# Plot training history\n",
        "plt.figure(figsize=(10,5))\n",
        "plt.plot(history.history['accuracy'], label='Training Accuracy')\n",
        "plt.plot(history.history['val_accuracy'], label='Validation Accuracy')\n",
        "plt.title('Model Accuracy')\n",
        "plt.xlabel('Epochs')\n",
        "plt.ylabel('Accuracy')\n",
        "plt.legend()\n",
        "plt.show()\n",
        "\n",
        "plt.figure(figsize=(10,5))\n",
        "plt.plot(history.history['loss'], label='Training Loss')\n",
        "plt.plot(history.history['val_loss'], label='Validation Loss')\n",
        "plt.title('Model Loss')\n",
        "plt.xlabel('Epochs')\n",
        "plt.ylabel('Loss')\n",
        "plt.legend()\n",
        "plt.show()"
      ],
      "metadata": {
        "colab": {
          "base_uri": "https://localhost:8080/",
          "height": 957
        },
        "id": "2cqxv758P4e9",
        "outputId": "23225cc3-0c14-4193-83ac-a91cec8be189"
      },
      "execution_count": 18,
      "outputs": [
        {
          "output_type": "display_data",
          "data": {
            "text/plain": [
              "<Figure size 1000x500 with 1 Axes>"
            ],
            "image/png": "[encoded data removed]"
          },
          "metadata": {}
        },
        {
          "output_type": "display_data",
          "data": {
            "text/plain": [
              "<Figure size 1000x500 with 1 Axes>"
            ],
            "image/png": "[encoded data removed]"
          },
          "metadata": {}
        }
      ]
    },
    {
      "cell_type": "markdown",
      "source": [
        "### Model Evaluation"
      ],
      "metadata": {
        "id": "xWzEVm7UH7HL"
      }
    },
    {
      "cell_type": "code",
      "source": [
        "# Evaluate the model\n",
        "loss, accuracy = model.evaluate(X_test, y_test)\n",
        "print(\"Test Accuracy:\", accuracy)\n",
        "print(\"Test Loss:\", loss)\n"
      ],
      "metadata": {
        "colab": {
          "base_uri": "https://localhost:8080/"
        },
        "id": "Cjmz3A-QH-SU",
        "outputId": "774e560a-74de-458f-db1d-35ada6cc3ec5"
      },
      "execution_count": 19,
      "outputs": [
        {
          "output_type": "stream",
          "name": "stdout",
          "text": [
            "313/313 [==============================] - 14s 43ms/step - loss: 0.5411 - accuracy: 0.8491\n",
            "Test Accuracy: 0.8490999937057495\n",
            "Test Loss: 0.5411478281021118\n"
          ]
        }
      ]
    },
    {
      "cell_type": "markdown",
      "source": [
        "\n",
        "The evaluation result of the model on the testing dataset is as follows:\n",
        "\n",
        "Test Accuracy: 0.84 (84.13%)\n",
        "Test Loss: 0.4727\n",
        "This means that the model achieved a test accuracy of approximately 83.93%, and the corresponding test loss is approximately 0.95\n",
        "\n",
        "This evaluation indicates that the model performs reasonably well on unseen data, with a relatively high accuracy. However, it's essential to consider the specific requirements and context of the application to determine if this level of performance is satisfactory."
      ],
      "metadata": {
        "id": "vsGFItuoQqPZ"
      }
    },
    {
      "cell_type": "markdown",
      "metadata": {
        "id": "gTXDZr6Xiya7"
      },
      "source": [
        "### Prediction\n",
        "##### This section performs sentiment analysis on a list of custom texts using a pre-trained model and a predefined threshold for classifying sentiment."
      ]
    },
    {
      "cell_type": "code",
      "execution_count": 20,
      "metadata": {
        "colab": {
          "base_uri": "https://localhost:8080/"
        },
        "outputId": "b56da6de-2c40-4582-8344-6e850e011b60",
        "id": "AlXTsz-4aPDd"
      },
      "outputs": [
        {
          "output_type": "stream",
          "name": "stdout",
          "text": [
            "1/1 [==============================] - 0s 293ms/step\n",
            "Custom Text: 'This movie is fantastic!' | Predicted Sentiment: Positive | Score: 0.7510368824005127\n",
            "1/1 [==============================] - 0s 34ms/step\n",
            "Custom Text: 'The acting was terrible, especially the lead actor.' | Predicted Sentiment: Negative | Score: 0.0430779904127121\n",
            "1/1 [==============================] - 0s 34ms/step\n",
            "Custom Text: 'The plot was confusing and hard to follow.' | Predicted Sentiment: Negative | Score: 0.11171268671751022\n",
            "1/1 [==============================] - 0s 34ms/step\n",
            "Custom Text: 'It was great!' | Predicted Sentiment: Positive | Score: 0.6584950089454651\n",
            "1/1 [==============================] - 0s 56ms/step\n",
            "Custom Text: 'The cinematography in this film is breathtaking; every scene is a visual treat.' | Predicted Sentiment: Positive | Score: 0.9968719482421875\n"
          ]
        }
      ],
      "source": [
        "import re\n",
        "import numpy as np\n",
        "from nltk.tokenize import word_tokenize\n",
        "from nltk.corpus import stopwords\n",
        "from nltk.stem import WordNetLemmatizer\n",
        "from tensorflow.keras.preprocessing.sequence import pad_sequences\n",
        "\n",
        "# Define function for preprocessing the text\n",
        "def preprocess_text(text):\n",
        "    # Lowercasing\n",
        "    text = text.lower()\n",
        "    # Tokenization\n",
        "    tokens = word_tokenize(text)\n",
        "    # Removing stopwords\n",
        "    stop_words = set(stopwords.words('english'))\n",
        "    tokens = [word for word in tokens if word not in stop_words]\n",
        "    # Lemmatization\n",
        "    lemmatizer = WordNetLemmatizer()\n",
        "    tokens = [lemmatizer.lemmatize(word) for word in tokens]\n",
        "    return tokens\n",
        "\n",
        "# Define function to predict sentiment of custom text\n",
        "def predict_sentiment(model, tokenizer, max_length, text):\n",
        "    # Preprocess the text\n",
        "    preprocessed_text = preprocess_text(text)\n",
        "    # Tokenize and pad the text\n",
        "    sequence = tokenizer.texts_to_sequences([preprocessed_text])\n",
        "    padded_sequence = pad_sequences(sequence, maxlen=max_length)\n",
        "    # Predict sentiment\n",
        "    sentiment_score = model.predict(padded_sequence)[0][0]\n",
        "    # Classify sentiment based on score\n",
        "    sentiment = \"positive\" if sentiment_score > 0.5 else \"negative\"\n",
        "    return sentiment, sentiment_score\n",
        "\n",
        "# List of custom texts\n",
        "custom_texts = [\"This movie is fantastic!\",\n",
        "                \"The acting was terrible, especially the lead actor.\",\n",
        "                \"The plot was confusing and hard to follow.\",\n",
        "                \"It was great!\",\n",
        "                \"The cinematography in this film is breathtaking; every scene is a visual treat.\"]\n",
        "\n",
        "# Predict sentiment for each custom text\n",
        "for custom_text in custom_texts:\n",
        "    # Predict sentiment\n",
        "    max_length = 100\n",
        "    predicted_sentiment, sentiment_score = predict_sentiment(model, tokenizer, max_length, custom_text)\n",
        "    # Print custom text, predicted sentiment, and sentiment score\n",
        "    print(f\"Custom Text: '{custom_text}' | Predicted Sentiment: {predicted_sentiment.capitalize()} | Score: {sentiment_score}\")\n",
        "\n"
      ]
    },
    {
      "cell_type": "markdown",
      "source": [
        "* Preprocessing function:\n",
        " * Lowercasing\n",
        " * Tokenizing\n",
        " * Removing stopwords\n",
        " * Lemmatizing\n",
        "* Sentiment prediction function:\n",
        " * The model predicts a sentiment score for the input text, which is then classified as \"positive\" or \"negative\" based on a predefined threshold (0.5 in this case)\n",
        "* List of custom texts are defined for sentiment analysis\n",
        "* Sentiment prediction loop:\n",
        " * For each custom text in the list, sentiment analysis is performed using the predict_sentiment function\n",
        " * The predicted sentiment (\"positive\" or \"negative\") and sentiment score are printed for each custom text."
      ],
      "metadata": {
        "id": "hhdZOAy9sUMF"
      }
    },
    {
      "cell_type": "markdown",
      "metadata": {
        "id": "4e3Gi8ISrKVx"
      },
      "source": [
        "###Conclusion\n",
        "#####The sentiment analysis project aimed to develop a machine learning model capable of classifying the sentiment of textual data as either positive or negative. The project utilized natural language processing techniques, including data preprocessing, tokenization, and machine learning model training. The dataset consisted of IMDb movie reviews, which were preprocessed by lowercasing, removing special characters, stopwords, and non-alphabetic characters, as well as lemmatizing each word.\n",
        "\n",
        "#####A Long Short-Term Memory (LSTM) neural network model was chosen for sentiment classification due to its ability to capture long-term dependencies in sequential data. The model was trained using the preprocessed IMDb dataset and evaluated using standard metrics such as accuracy and loss.\n",
        "\n",
        "#####The project yielded a sentiment analysis model with a test accuracy of approximately 83.93%. The model demonstrated the ability to classify sentiment with reasonable accuracy, although there is room for improvement, as indicated by the test loss value.\n",
        "\n",
        "#####Overall, the sentiment analysis project showcased the application of deep learning techniques in understanding and analyzing textual data, with potential implications for various domains, including customer feedback analysis, social media sentiment monitoring, and market research.\n",
        "\n",
        "\n",
        "### Lessons Learned\n",
        "#####Lessons learned from the project included the importance of data preprocessing, model selection, and parameter tuning in achieving optimal performance. Challenges encountered included handling imbalanced data, selecting appropriate hyperparameters, and interpreting model predictions.\n",
        "\n",
        "### Recommendations\n",
        "#####Recommendations for future work include exploring alternative model architectures, incorporating more advanced preprocessing techniques, and experimenting with ensemble methods to improve model performance. Additionally, further analysis of misclassified instances and model interpretability could provide valuable insights into the strengths and limitations of the sentiment analysis system.\n",
        "\n",
        "\n"
      ]
    }
  ]
}